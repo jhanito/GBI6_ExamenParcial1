{
  "cells": [
    {
      "cell_type": "markdown",
      "metadata": {
        "id": "view-in-github",
        "colab_type": "text"
      },
      "source": [
        "<a href=\"https://colab.research.google.com/github/jhanito/GBI6_ExamenParcial1/blob/main/2021I_GBI6_ExamenParcial1.ipynb\" target=\"_parent\"><img src=\"https://colab.research.google.com/assets/colab-badge.svg\" alt=\"Open In Colab\"/></a>"
      ]
    },
    {
      "cell_type": "markdown",
      "metadata": {
        "id": "ryYBn2_1EFNq"
      },
      "source": [
        "<img src=\"https://www.ikiam.edu.ec/img/logo-ikiam-grey.png\" width=300 height=240 />\n",
        "\n",
        "# EXAMEN PARCIAL 1\n",
        "\n",
        "## GBI6-2021II: BIOINFORMÁTICA\n",
        "\n",
        "**TORRES MONTAQUIZA JHANINA NICOLE**\n",
        "\n",
        "**11-01-2021**"
      ]
    },
    {
      "cell_type": "markdown",
      "metadata": {
        "id": "X0id0g25EFOX"
      },
      "source": [
        "<font color='red'>NO AGREGUE NUEVAS CELDAS, UTILICE ÚNICAMENTE LAS QUE ESTÁN CREADAS</font>"
      ]
    },
    {
      "cell_type": "markdown",
      "metadata": {
        "id": "-q9buAJcEFOf"
      },
      "source": [
        "# 1. UNIX\n",
        "<img src=\"WhatsApp%20Image%202022-01-14%20at%2012.29.41%20AM(1).jpeg\" width=600 height=450 />\n",
        "\n",
        "## Ejercicio 1\n",
        "Luego seleccione la instrucción que enlista los archivos del directorio test1 y luego imprima el contenido de test2.txt\n",
        "\n",
        "Coloque aquí la captura de pantalla del ejercicio 1 (borre esta línea cuando finalice)\n",
        "\n",
        "\n",
        "\n",
        "## Ejercicio 2\n",
        "Escriba aquì el enunciado\n",
        "\n",
        "Coloque aquí la captura de pantalla del ejercicio 2 (borre esta línea cuando finalice)\n",
        "\n",
        "<img src=\"data/ejemplo_unix.jpg\" width=600 height=450 />\n",
        "\n",
        "Escriba aquí alguna explicación del ejercicio 2 si lo considera necesario (borre esta línea cuando finalice)\n",
        "\n",
        "## Ejercicio 3\n",
        "Escriba aquí el enunciado\n",
        "\n",
        "Coloque aquí la captura de pantalla del ejercicio 3 (borre esta línea cuando finalice)\n",
        "\n",
        "<img src=\"data/ejemplo_unix.jpg\" width=600 height=450 />\n",
        "\n",
        "Escriba aquí alguna explicación del ejercicio 3 si lo considera necesario (borre esta línea cuando finalice)\n",
        "\n",
        "## Ejercicio 4\n",
        "Escriba aquí el enunciado\n"
      ]
    },
    {
      "cell_type": "code",
      "source": [
        ""
      ],
      "metadata": {
        "id": "JTrPwkiNcyE4"
      },
      "execution_count": null,
      "outputs": []
    },
    {
      "cell_type": "markdown",
      "metadata": {
        "id": "CvCZdwHkOV5v"
      },
      "source": [
        "<img src=\"https://www.ikiam.edu.ec/img/logo-ikiam-grey.png\" width=300 height=240 />\n",
        "\n",
        "# EXAMEN PARCIAL 1\n",
        "\n",
        "## GBI6-2021II: BIOINFORMÁTICA\n",
        "\n",
        "**TORRES MONTAQUIZA JHANINA NICOLE**\n",
        "\n",
        "**11-01-2021**"
      ]
    },
    {
      "cell_type": "code",
      "source": [
        ""
      ],
      "metadata": {
        "id": "TL3bQrHDccsV"
      },
      "execution_count": null,
      "outputs": []
    },
    {
      "cell_type": "markdown",
      "metadata": {
        "id": "UOVgA2zYGH91"
      },
      "source": [
        "<img src=\"https://www.ikiam.edu.ec/img/logo-ikiam-grey.png\" width=300 height=240 />\n",
        "\n",
        "# EXAMEN PARCIAL 1\n",
        "\n",
        "## GBI6-2021II: BIOINFORMÁTICA\n",
        "\n",
        "**TORRES MONTAQUIZA JHANINA NICOLE**\n",
        "\n",
        "**11-01-2021**"
      ]
    },
    {
      "cell_type": "code",
      "execution_count": null,
      "metadata": {
        "id": "S6pSx44ZEFOt",
        "outputId": "deba20c2-8939-493e-a296-84289a24648b"
      },
      "outputs": [
        {
          "data": {
            "text/html": [
              "<iframe width=\"560\" height=\"315\" src=\"https://www.youtube.com/embed/9ck5iEP03g4\" title=\"YouTube video player\" frameborder=\"0\" allow=\"accelerometer; autoplay; clipboard-write; encrypted-media; gyroscope; picture-in-picture\" allowfullscreen></iframe>"
            ],
            "text/plain": [
              "<IPython.core.display.HTML object>"
            ]
          },
          "execution_count": 7,
          "metadata": {},
          "output_type": "execute_result"
        }
      ],
      "source": [
        "# Coloque aquí su video del ejercicio 4\n",
        "from IPython.display import HTML\n",
        "HTML('<iframe width=\"560\" height=\"315\" src=\"https://www.youtube.com/embed/9ck5iEP03g4\" title=\"YouTube video player\" frameborder=\"0\" allow=\"accelerometer; autoplay; clipboard-write; encrypted-media; gyroscope; picture-in-picture\" allowfullscreen></iframe>')\n"
      ]
    },
    {
      "cell_type": "markdown",
      "metadata": {
        "id": "flkLrHVAEFO2"
      },
      "source": [
        "Escriba aquí alguna explicación del ejercicio 4 si lo considera necesario (borre esta línea cuando finalice)\n",
        "\n",
        "## Ejercicio 5\n",
        "Escriba aquí el enunciado\n"
      ]
    },
    {
      "cell_type": "code",
      "execution_count": null,
      "metadata": {
        "id": "109nYqEFEFO9",
        "outputId": "c1f77a8d-5a55-436c-bc52-44dae88fee2b"
      },
      "outputs": [
        {
          "data": {
            "text/html": [
              "<iframe width=\"560\" height=\"315\" src=\"https://www.youtube.com/embed/3XlZWpLwvvo\" title=\"YouTube video player\" frameborder=\"0\" allow=\"accelerometer; autoplay; clipboard-write; encrypted-media; gyroscope; picture-in-picture\" allowfullscreen></iframe>"
            ],
            "text/plain": [
              "<IPython.core.display.HTML object>"
            ]
          },
          "execution_count": 5,
          "metadata": {},
          "output_type": "execute_result"
        }
      ],
      "source": [
        "# Coloque aquí su video del ejercicio 5\n",
        "from IPython.display import HTML\n",
        "HTML('<iframe width=\"560\" height=\"315\" src=\"https://www.youtube.com/embed/3XlZWpLwvvo\" title=\"YouTube video player\" frameborder=\"0\" allow=\"accelerometer; autoplay; clipboard-write; encrypted-media; gyroscope; picture-in-picture\" allowfullscreen></iframe>')\n"
      ]
    },
    {
      "cell_type": "markdown",
      "metadata": {
        "jp-MarkdownHeadingCollapsed": true,
        "tags": [],
        "id": "7T1gkYh2EFPD"
      },
      "source": [
        "Escriba aquí alguna explicación del ejercicio 5 si lo considera necesario (borre esta línea cuando finalice)\n",
        "\n",
        "# 2. CONTROL DE LA VERSIÓN\n",
        "## Pregunta 6\n",
        "1. Cree en GitHub un repositorio de nombre ```GBI6_ExamenParcial1```. \n",
        "2. Cree un archivo ```Readme.md``` que debe tener lo siguiente: \n",
        "- Datos personales\n",
        "- Características del computador\n",
        "- Programas utilizados\n",
        "- Explicación de la data utilizada\n",
        "\n",
        "\n",
        "## Pregunta 7\n",
        "1. Cada vez que resuelva un ejercicio (del 1 al 10), utilizando Git Bash, GitHub Desktop o Atom realice un *git push* con el mensaje: \n",
        "\n",
        "\n",
        "<font color='red'>Apellido Nombre ha resuelto el ejercicio 1</font> % Cambie con sus apellidos y nombres; y con el número de ejercicio que corresponda \n",
        "\n",
        "2. Coloque aquí las capturas de pantalla para cada git push realizado desde Git Bash, GitHub Desktop o Atom. \n",
        "\n",
        "- Control de versión ejercicio 1\n",
        "\n",
        "<img src=\"data/ejemplo_unix.jpg\" width=600 height=450 />\n",
        "\n",
        "- Control de versión ejercicio 2\n",
        "\n",
        "<img src=\"data/ejemplo_unix.jpg\" width=600 height=450 />\n",
        "\n",
        "- Control de versión ejercicio 3\n",
        "\n",
        "<img src=\"data/ejemplo_unix.jpg\" width=600 height=450 />\n",
        "\n",
        "- Control de versión ejercicio 4\n",
        "\n",
        "<img src=\"data/ejemplo_unix.jpg\" width=600 height=450 />\n",
        "\n",
        "- Control de versión ejercicio 5\n",
        "\n",
        "<img src=\"data/ejemplo_unix.jpg\" width=600 height=450 />\n",
        "\n",
        "- Control de versión ejercicio 8\n",
        "\n",
        "<img src=\"data/ejemplo_unix.jpg\" width=600 height=450 />\n",
        "\n",
        "- Control de versión ejercicio 9\n",
        "\n",
        "<img src=\"data/ejemplo_unix.jpg\" width=600 height=450 />\n",
        "\n",
        "- Control de versión ejercicio 10\n",
        "\n",
        "<img src=\"data/ejemplo_unix.jpg\" width=600 height=450 />\n",
        "\n",
        "\n",
        "3. Cree un directorio de nombre ```data``` donde deben estar guardados: (i) la data utilizada y (ii) las capturas de pantalla de los ejercicios 1 al 3 y los git push del ejercicio 1 al 10 (en total debe tener 13 imágenes). \n",
        "4. Inserte aquí el enlace de su repositorio (válido para el ejercicio 6 y 7): [GitHub Repository: GBI6_ExamenParcial1](https://github.com/gualapuromoises/2021_gbi6.git) (este enlace es de ejemplo)"
      ]
    },
    {
      "cell_type": "markdown",
      "source": [
        "##Ejercicio 6\n"
      ],
      "metadata": {
        "id": "XXhI-idG7IM8"
      }
    },
    {
      "cell_type": "code",
      "source": [
        "lista1 = ['a','b','c','d','e','f','g','h','i','j']\n",
        "print(lista1)\n",
        "\n",
        "u=lista1[3]\n",
        "print(u)\n",
        "lista1.append([\"gbi6\",\"bio1\",\"ikiam\"])\n",
        "print(lista1[-1][-1])\n",
        "print(len(lista1))\n",
        "t=(lista1[2:5])\n",
        "print(t)"
      ],
      "metadata": {
        "colab": {
          "base_uri": "https://localhost:8080/"
        },
        "id": "MqmviITG3Ohx",
        "outputId": "071530cb-d066-44e9-f363-9979e1ca0014"
      },
      "execution_count": null,
      "outputs": [
        {
          "output_type": "stream",
          "name": "stdout",
          "text": [
            "['a', 'b', 'c', 'd', 'e', 'f', 'g', 'h', 'i', 'j']\n",
            "d\n",
            "ikiam\n",
            "11\n",
            "['c', 'd', 'e']\n"
          ]
        }
      ]
    },
    {
      "cell_type": "markdown",
      "source": [
        "##Ejercicio 7\n"
      ],
      "metadata": {
        "id": "lBe-372y_sRM"
      }
    },
    {
      "cell_type": "code",
      "source": [
        "dic_genomas = {\n",
        "    \"Saccharomyces cerevisiae\":[\"12million\",6000],\n",
        "    \"Trichomonas vaginalis\":[\"160 million\",60000],\n",
        "    \"Plasmodium falciparum\":[\"23 million\", 5000],\n",
        "    \"Caenorhabditis elegans\":[\"95.5 million\", 18000],\n",
        "    \"Drosophila melanogaster\":[\"170 million\", 14000],\n",
        "    \"Arabidopsis thaliana\":[\"125 million\", 25000],\n",
        "    \"Oryza sativa\":[\"470 million\", 51000],\n",
        "    \"Gallus gallus\": [\"1 billion\",\"20,000-23,000\"],\n",
        "    \"Canis familiaris\":[\"2.4 billion\", \t19000],\n",
        "    \"Mus musculus\":[\"2.5 billion\", 30000],\n",
        "    \"Homo sapiens\":[\"2.9 billion\", \"20,000-25,000\"]}\n",
        "print (dic_genomas)\n",
        "especies = dic_genomas.keys()\n",
        "print(especies)\n",
        "genomas= dic_genomas.values()\n",
        "print(genomas)\n"
      ],
      "metadata": {
        "colab": {
          "base_uri": "https://localhost:8080/"
        },
        "id": "EiFs6U24_Wis",
        "outputId": "3f1c1a9c-e4d0-4dd3-929a-86699f831ae3"
      },
      "execution_count": null,
      "outputs": [
        {
          "output_type": "stream",
          "name": "stdout",
          "text": [
            "{'Saccharomyces cerevisiae': ['12million', 6000], 'Trichomonas vaginalis': ['160 million', 60000], 'Plasmodium falciparum': ['23 million', 5000], 'Caenorhabditis elegans': ['95.5 million', 18000], 'Drosophila melanogaster': ['170 million', 14000], 'Arabidopsis thaliana': ['125 million', 25000], 'Oryza sativa': ['470 million', 51000], 'Gallus gallus': ['1 billion', '20,000-23,000'], 'Canis familiaris': ['2.4 billion', 19000], 'Mus musculus': ['2.5 billion', 30000], 'Homo sapiens': ['2.9 billion', '20,000-25,000']}\n",
            "dict_keys(['Saccharomyces cerevisiae', 'Trichomonas vaginalis', 'Plasmodium falciparum', 'Caenorhabditis elegans', 'Drosophila melanogaster', 'Arabidopsis thaliana', 'Oryza sativa', 'Gallus gallus', 'Canis familiaris', 'Mus musculus', 'Homo sapiens'])\n",
            "dict_values([['12million', 6000], ['160 million', 60000], ['23 million', 5000], ['95.5 million', 18000], ['170 million', 14000], ['125 million', 25000], ['470 million', 51000], ['1 billion', '20,000-23,000'], ['2.4 billion', 19000], ['2.5 billion', 30000], ['2.9 billion', '20,000-25,000']])\n"
          ]
        }
      ]
    },
    {
      "cell_type": "markdown",
      "source": [
        "##Ejercicio 8"
      ],
      "metadata": {
        "id": "Sr6LXYya-dDE"
      }
    },
    {
      "cell_type": "code",
      "source": [
        "ºººººººººººººººººººººººººº1lista2=['Mazda RX4','Mazda RX4 Wag','Datsun 710','Hornet 4 Drive','Hornet Sportabout','Valiant','Duster 360','Merc 240D','Merc 230']\n",
        "print(lista2[2:5])\n",
        "print(lista1[3])\n",
        "lista1.append([\"gbi6\", \"bio1\", \"ikiam\"])\n",
        "print(len(lista1))\n",
        "print(lista1[4])\n",
        "lista1.append([\"gbi6\", \"bio1\", \"ikiam\"])\n",
        "print(lista1[-1][-3])\n",
        "\t\n",
        "\n"
      ],
      "metadata": {
        "colab": {
          "base_uri": "https://localhost:8080/"
        },
        "id": "xIo8A2bq7RsA",
        "outputId": "2af13c3e-9da7-47c3-cba3-ba098324139b"
      },
      "execution_count": null,
      "outputs": [
        {
          "output_type": "stream",
          "name": "stdout",
          "text": [
            "['Datsun 710', 'Hornet 4 Drive', 'Hornet Sportabout']\n",
            "d\n",
            "18\n",
            "e\n",
            "gbi6\n"
          ]
        }
      ]
    },
    {
      "cell_type": "markdown",
      "source": [
        ""
      ],
      "metadata": {
        "id": "QtD-JH9-60n2"
      }
    },
    {
      "cell_type": "code",
      "execution_count": null,
      "metadata": {
        "id": "tyO8KfZ7EFPp"
      },
      "outputs": [],
      "source": [
        "# Escriba aquí el código"
      ]
    }
  ],
  "metadata": {
    "kernelspec": {
      "display_name": "Python 3 (ipykernel)",
      "language": "python",
      "name": "python3"
    },
    "language_info": {
      "codemirror_mode": {
        "name": "ipython",
        "version": 3
      },
      "file_extension": ".py",
      "mimetype": "text/x-python",
      "name": "python",
      "nbconvert_exporter": "python",
      "pygments_lexer": "ipython3",
      "version": "3.9.7"
    },
    "latex_envs": {
      "LaTeX_envs_menu_present": true,
      "autoclose": false,
      "autocomplete": true,
      "bibliofile": "biblio.bib",
      "cite_by": "apalike",
      "current_citInitial": 1,
      "eqLabelWithNumbers": true,
      "eqNumInitial": 1,
      "hotkeys": {
        "equation": "Ctrl-E",
        "itemize": "Ctrl-I"
      },
      "labels_anchors": false,
      "latex_user_defs": false,
      "report_style_numbering": false,
      "user_envs_cfg": false
    },
    "toc": {
      "base_numbering": 1,
      "nav_menu": {},
      "number_sections": true,
      "sideBar": false,
      "skip_h1_title": false,
      "title_cell": "Table of Contents",
      "title_sidebar": "Contents",
      "toc_cell": false,
      "toc_position": {
        "height": "1152.67px",
        "left": "41px",
        "top": "110px",
        "width": "253.458px"
      },
      "toc_section_display": true,
      "toc_window_display": false
    },
    "varInspector": {
      "cols": {
        "lenName": 16,
        "lenType": 16,
        "lenVar": 40
      },
      "kernels_config": {
        "python": {
          "delete_cmd_postfix": "",
          "delete_cmd_prefix": "del ",
          "library": "var_list.py",
          "varRefreshCmd": "print(var_dic_list())"
        },
        "r": {
          "delete_cmd_postfix": ") ",
          "delete_cmd_prefix": "rm(",
          "library": "var_list.r",
          "varRefreshCmd": "cat(var_dic_list()) "
        }
      },
      "types_to_exclude": [
        "module",
        "function",
        "builtin_function_or_method",
        "instance",
        "_Feature"
      ],
      "window_display": false
    },
    "colab": {
      "name": "2021I_GBI6_ExamenParcial1.ipynb",
      "provenance": [],
      "collapsed_sections": [
        "ryYBn2_1EFNq",
        "CvCZdwHkOV5v",
        "UOVgA2zYGH91",
        "flkLrHVAEFO2"
      ],
      "include_colab_link": true
    }
  },
  "nbformat": 4,
  "nbformat_minor": 0
}